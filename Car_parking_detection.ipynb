{
  "nbformat": 4,
  "nbformat_minor": 0,
  "metadata": {
    "colab": {
      "provenance": [],
      "gpuType": "T4"
    },
    "kernelspec": {
      "name": "python3",
      "display_name": "Python 3"
    },
    "language_info": {
      "name": "python"
    },
    "accelerator": "GPU"
  },
  "cells": [
    {
      "cell_type": "code",
      "source": [
        "!pip install -r /content/drive/My\\ Drive/Car\\ Parking\\ detection/requirements.txt"
      ],
      "metadata": {
        "colab": {
          "base_uri": "https://localhost:8080/"
        },
        "id": "9bDz_cFSN16Y",
        "outputId": "2fce36d5-8a26-4781-e1c6-248b79fc9281"
      },
      "execution_count": null,
      "outputs": [
        {
          "output_type": "stream",
          "name": "stdout",
          "text": [
            "Requirement already satisfied: numpy==1.24.4 in /usr/local/lib/python3.10/dist-packages (from -r /content/drive/My Drive/Car Parking detection/requirements.txt (line 1)) (1.24.4)\n",
            "Requirement already satisfied: Flask==2.1.3 in /usr/local/lib/python3.10/dist-packages (from -r /content/drive/My Drive/Car Parking detection/requirements.txt (line 2)) (2.1.3)\n",
            "Requirement already satisfied: tensorflow==2.9.2 in /usr/local/lib/python3.10/dist-packages (from -r /content/drive/My Drive/Car Parking detection/requirements.txt (line 3)) (2.9.2)\n",
            "Requirement already satisfied: keras==2.9.0 in /usr/local/lib/python3.10/dist-packages (from -r /content/drive/My Drive/Car Parking detection/requirements.txt (line 4)) (2.9.0)\n",
            "Requirement already satisfied: opencv-python in /usr/local/lib/python3.10/dist-packages (from -r /content/drive/My Drive/Car Parking detection/requirements.txt (line 5)) (4.10.0.84)\n",
            "Requirement already satisfied: opencv-contrib-python in /usr/local/lib/python3.10/dist-packages (from -r /content/drive/My Drive/Car Parking detection/requirements.txt (line 6)) (4.10.0.84)\n",
            "Requirement already satisfied: Werkzeug>=2.0 in /usr/local/lib/python3.10/dist-packages (from Flask==2.1.3->-r /content/drive/My Drive/Car Parking detection/requirements.txt (line 2)) (3.1.3)\n",
            "Requirement already satisfied: Jinja2>=3.0 in /usr/local/lib/python3.10/dist-packages (from Flask==2.1.3->-r /content/drive/My Drive/Car Parking detection/requirements.txt (line 2)) (3.1.4)\n",
            "Requirement already satisfied: itsdangerous>=2.0 in /usr/local/lib/python3.10/dist-packages (from Flask==2.1.3->-r /content/drive/My Drive/Car Parking detection/requirements.txt (line 2)) (2.2.0)\n",
            "Requirement already satisfied: click>=8.0 in /usr/local/lib/python3.10/dist-packages (from Flask==2.1.3->-r /content/drive/My Drive/Car Parking detection/requirements.txt (line 2)) (8.1.7)\n",
            "Requirement already satisfied: absl-py>=1.0.0 in /usr/local/lib/python3.10/dist-packages (from tensorflow==2.9.2->-r /content/drive/My Drive/Car Parking detection/requirements.txt (line 3)) (1.4.0)\n",
            "Requirement already satisfied: astunparse>=1.6.0 in /usr/local/lib/python3.10/dist-packages (from tensorflow==2.9.2->-r /content/drive/My Drive/Car Parking detection/requirements.txt (line 3)) (1.6.3)\n",
            "Requirement already satisfied: flatbuffers<2,>=1.12 in /usr/local/lib/python3.10/dist-packages (from tensorflow==2.9.2->-r /content/drive/My Drive/Car Parking detection/requirements.txt (line 3)) (1.12)\n",
            "Requirement already satisfied: gast<=0.4.0,>=0.2.1 in /usr/local/lib/python3.10/dist-packages (from tensorflow==2.9.2->-r /content/drive/My Drive/Car Parking detection/requirements.txt (line 3)) (0.4.0)\n",
            "Requirement already satisfied: google-pasta>=0.1.1 in /usr/local/lib/python3.10/dist-packages (from tensorflow==2.9.2->-r /content/drive/My Drive/Car Parking detection/requirements.txt (line 3)) (0.2.0)\n",
            "Requirement already satisfied: grpcio<2.0,>=1.24.3 in /usr/local/lib/python3.10/dist-packages (from tensorflow==2.9.2->-r /content/drive/My Drive/Car Parking detection/requirements.txt (line 3)) (1.68.1)\n",
            "Requirement already satisfied: h5py>=2.9.0 in /usr/local/lib/python3.10/dist-packages (from tensorflow==2.9.2->-r /content/drive/My Drive/Car Parking detection/requirements.txt (line 3)) (3.12.1)\n",
            "Requirement already satisfied: keras-preprocessing>=1.1.1 in /usr/local/lib/python3.10/dist-packages (from tensorflow==2.9.2->-r /content/drive/My Drive/Car Parking detection/requirements.txt (line 3)) (1.1.2)\n",
            "Requirement already satisfied: libclang>=13.0.0 in /usr/local/lib/python3.10/dist-packages (from tensorflow==2.9.2->-r /content/drive/My Drive/Car Parking detection/requirements.txt (line 3)) (18.1.1)\n",
            "Requirement already satisfied: opt-einsum>=2.3.2 in /usr/local/lib/python3.10/dist-packages (from tensorflow==2.9.2->-r /content/drive/My Drive/Car Parking detection/requirements.txt (line 3)) (3.4.0)\n",
            "Requirement already satisfied: packaging in /usr/local/lib/python3.10/dist-packages (from tensorflow==2.9.2->-r /content/drive/My Drive/Car Parking detection/requirements.txt (line 3)) (24.2)\n",
            "Requirement already satisfied: protobuf<3.20,>=3.9.2 in /usr/local/lib/python3.10/dist-packages (from tensorflow==2.9.2->-r /content/drive/My Drive/Car Parking detection/requirements.txt (line 3)) (3.19.6)\n",
            "Requirement already satisfied: setuptools in /usr/local/lib/python3.10/dist-packages (from tensorflow==2.9.2->-r /content/drive/My Drive/Car Parking detection/requirements.txt (line 3)) (75.1.0)\n",
            "Requirement already satisfied: six>=1.12.0 in /usr/local/lib/python3.10/dist-packages (from tensorflow==2.9.2->-r /content/drive/My Drive/Car Parking detection/requirements.txt (line 3)) (1.16.0)\n",
            "Requirement already satisfied: tensorboard<2.10,>=2.9 in /usr/local/lib/python3.10/dist-packages (from tensorflow==2.9.2->-r /content/drive/My Drive/Car Parking detection/requirements.txt (line 3)) (2.9.1)\n",
            "Requirement already satisfied: tensorflow-io-gcs-filesystem>=0.23.1 in /usr/local/lib/python3.10/dist-packages (from tensorflow==2.9.2->-r /content/drive/My Drive/Car Parking detection/requirements.txt (line 3)) (0.37.1)\n",
            "Requirement already satisfied: tensorflow-estimator<2.10.0,>=2.9.0rc0 in /usr/local/lib/python3.10/dist-packages (from tensorflow==2.9.2->-r /content/drive/My Drive/Car Parking detection/requirements.txt (line 3)) (2.9.0)\n",
            "Requirement already satisfied: termcolor>=1.1.0 in /usr/local/lib/python3.10/dist-packages (from tensorflow==2.9.2->-r /content/drive/My Drive/Car Parking detection/requirements.txt (line 3)) (2.5.0)\n",
            "Requirement already satisfied: typing-extensions>=3.6.6 in /usr/local/lib/python3.10/dist-packages (from tensorflow==2.9.2->-r /content/drive/My Drive/Car Parking detection/requirements.txt (line 3)) (4.12.2)\n",
            "Requirement already satisfied: wrapt>=1.11.0 in /usr/local/lib/python3.10/dist-packages (from tensorflow==2.9.2->-r /content/drive/My Drive/Car Parking detection/requirements.txt (line 3)) (1.17.0)\n",
            "Requirement already satisfied: wheel<1.0,>=0.23.0 in /usr/local/lib/python3.10/dist-packages (from astunparse>=1.6.0->tensorflow==2.9.2->-r /content/drive/My Drive/Car Parking detection/requirements.txt (line 3)) (0.45.1)\n",
            "Requirement already satisfied: MarkupSafe>=2.0 in /usr/local/lib/python3.10/dist-packages (from Jinja2>=3.0->Flask==2.1.3->-r /content/drive/My Drive/Car Parking detection/requirements.txt (line 2)) (3.0.2)\n",
            "Requirement already satisfied: google-auth<3,>=1.6.3 in /usr/local/lib/python3.10/dist-packages (from tensorboard<2.10,>=2.9->tensorflow==2.9.2->-r /content/drive/My Drive/Car Parking detection/requirements.txt (line 3)) (2.27.0)\n",
            "Requirement already satisfied: google-auth-oauthlib<0.5,>=0.4.1 in /usr/local/lib/python3.10/dist-packages (from tensorboard<2.10,>=2.9->tensorflow==2.9.2->-r /content/drive/My Drive/Car Parking detection/requirements.txt (line 3)) (0.4.6)\n",
            "Requirement already satisfied: markdown>=2.6.8 in /usr/local/lib/python3.10/dist-packages (from tensorboard<2.10,>=2.9->tensorflow==2.9.2->-r /content/drive/My Drive/Car Parking detection/requirements.txt (line 3)) (3.7)\n",
            "Requirement already satisfied: requests<3,>=2.21.0 in /usr/local/lib/python3.10/dist-packages (from tensorboard<2.10,>=2.9->tensorflow==2.9.2->-r /content/drive/My Drive/Car Parking detection/requirements.txt (line 3)) (2.32.3)\n",
            "Requirement already satisfied: tensorboard-data-server<0.7.0,>=0.6.0 in /usr/local/lib/python3.10/dist-packages (from tensorboard<2.10,>=2.9->tensorflow==2.9.2->-r /content/drive/My Drive/Car Parking detection/requirements.txt (line 3)) (0.6.1)\n",
            "Requirement already satisfied: tensorboard-plugin-wit>=1.6.0 in /usr/local/lib/python3.10/dist-packages (from tensorboard<2.10,>=2.9->tensorflow==2.9.2->-r /content/drive/My Drive/Car Parking detection/requirements.txt (line 3)) (1.8.1)\n",
            "Requirement already satisfied: cachetools<6.0,>=2.0.0 in /usr/local/lib/python3.10/dist-packages (from google-auth<3,>=1.6.3->tensorboard<2.10,>=2.9->tensorflow==2.9.2->-r /content/drive/My Drive/Car Parking detection/requirements.txt (line 3)) (5.5.0)\n",
            "Requirement already satisfied: pyasn1-modules>=0.2.1 in /usr/local/lib/python3.10/dist-packages (from google-auth<3,>=1.6.3->tensorboard<2.10,>=2.9->tensorflow==2.9.2->-r /content/drive/My Drive/Car Parking detection/requirements.txt (line 3)) (0.4.1)\n",
            "Requirement already satisfied: rsa<5,>=3.1.4 in /usr/local/lib/python3.10/dist-packages (from google-auth<3,>=1.6.3->tensorboard<2.10,>=2.9->tensorflow==2.9.2->-r /content/drive/My Drive/Car Parking detection/requirements.txt (line 3)) (4.9)\n",
            "Requirement already satisfied: requests-oauthlib>=0.7.0 in /usr/local/lib/python3.10/dist-packages (from google-auth-oauthlib<0.5,>=0.4.1->tensorboard<2.10,>=2.9->tensorflow==2.9.2->-r /content/drive/My Drive/Car Parking detection/requirements.txt (line 3)) (1.3.1)\n",
            "Requirement already satisfied: charset-normalizer<4,>=2 in /usr/local/lib/python3.10/dist-packages (from requests<3,>=2.21.0->tensorboard<2.10,>=2.9->tensorflow==2.9.2->-r /content/drive/My Drive/Car Parking detection/requirements.txt (line 3)) (3.4.0)\n",
            "Requirement already satisfied: idna<4,>=2.5 in /usr/local/lib/python3.10/dist-packages (from requests<3,>=2.21.0->tensorboard<2.10,>=2.9->tensorflow==2.9.2->-r /content/drive/My Drive/Car Parking detection/requirements.txt (line 3)) (3.10)\n",
            "Requirement already satisfied: urllib3<3,>=1.21.1 in /usr/local/lib/python3.10/dist-packages (from requests<3,>=2.21.0->tensorboard<2.10,>=2.9->tensorflow==2.9.2->-r /content/drive/My Drive/Car Parking detection/requirements.txt (line 3)) (2.2.3)\n",
            "Requirement already satisfied: certifi>=2017.4.17 in /usr/local/lib/python3.10/dist-packages (from requests<3,>=2.21.0->tensorboard<2.10,>=2.9->tensorflow==2.9.2->-r /content/drive/My Drive/Car Parking detection/requirements.txt (line 3)) (2024.8.30)\n",
            "Requirement already satisfied: pyasn1<0.7.0,>=0.4.6 in /usr/local/lib/python3.10/dist-packages (from pyasn1-modules>=0.2.1->google-auth<3,>=1.6.3->tensorboard<2.10,>=2.9->tensorflow==2.9.2->-r /content/drive/My Drive/Car Parking detection/requirements.txt (line 3)) (0.6.1)\n",
            "Requirement already satisfied: oauthlib>=3.0.0 in /usr/local/lib/python3.10/dist-packages (from requests-oauthlib>=0.7.0->google-auth-oauthlib<0.5,>=0.4.1->tensorboard<2.10,>=2.9->tensorflow==2.9.2->-r /content/drive/My Drive/Car Parking detection/requirements.txt (line 3)) (3.2.2)\n"
          ]
        }
      ]
    },
    {
      "cell_type": "code",
      "source": [
        "import numpy as np\n",
        "import os\n",
        "from tensorflow.keras import applications\n",
        "from tensorflow.keras.preprocessing.image import ImageDataGenerator\n",
        "from tensorflow.keras import optimizers\n",
        "from tensorflow.keras.models import Sequential, Model\n",
        "from tensorflow.keras.layers import Dropout, Flatten, Dense, GlobalAveragePooling2D"
      ],
      "metadata": {
        "id": "GGVvdN47Ofwe"
      },
      "execution_count": null,
      "outputs": []
    },
    {
      "cell_type": "code",
      "source": [
        "from google.colab import drive\n",
        "drive.mount('/content/drive')"
      ],
      "metadata": {
        "colab": {
          "base_uri": "https://localhost:8080/"
        },
        "id": "aWry30a_nILw",
        "outputId": "7154db5a-8e24-45c9-bec9-ff9401746415"
      },
      "execution_count": null,
      "outputs": [
        {
          "output_type": "stream",
          "name": "stdout",
          "text": [
            "Drive already mounted at /content/drive; to attempt to forcibly remount, call drive.mount(\"/content/drive\", force_remount=True).\n"
          ]
        }
      ]
    },
    {
      "cell_type": "code",
      "source": [
        "from google.colab import files\n",
        "uploaded = files.upload()  # This opens a dialog for file upload"
      ],
      "metadata": {
        "colab": {
          "base_uri": "https://localhost:8080/",
          "height": 73
        },
        "id": "VP7yILFmedBt",
        "outputId": "088e27ca-8296-4fcc-9a90-0edb23f64818"
      },
      "execution_count": null,
      "outputs": [
        {
          "output_type": "display_data",
          "data": {
            "text/plain": [
              "<IPython.core.display.HTML object>"
            ],
            "text/html": [
              "\n",
              "     <input type=\"file\" id=\"files-12944117-0408-41e1-8e93-bea160d90844\" name=\"files[]\" multiple disabled\n",
              "        style=\"border:none\" />\n",
              "     <output id=\"result-12944117-0408-41e1-8e93-bea160d90844\">\n",
              "      Upload widget is only available when the cell has been executed in the\n",
              "      current browser session. Please rerun this cell to enable.\n",
              "      </output>\n",
              "      <script>// Copyright 2017 Google LLC\n",
              "//\n",
              "// Licensed under the Apache License, Version 2.0 (the \"License\");\n",
              "// you may not use this file except in compliance with the License.\n",
              "// You may obtain a copy of the License at\n",
              "//\n",
              "//      http://www.apache.org/licenses/LICENSE-2.0\n",
              "//\n",
              "// Unless required by applicable law or agreed to in writing, software\n",
              "// distributed under the License is distributed on an \"AS IS\" BASIS,\n",
              "// WITHOUT WARRANTIES OR CONDITIONS OF ANY KIND, either express or implied.\n",
              "// See the License for the specific language governing permissions and\n",
              "// limitations under the License.\n",
              "\n",
              "/**\n",
              " * @fileoverview Helpers for google.colab Python module.\n",
              " */\n",
              "(function(scope) {\n",
              "function span(text, styleAttributes = {}) {\n",
              "  const element = document.createElement('span');\n",
              "  element.textContent = text;\n",
              "  for (const key of Object.keys(styleAttributes)) {\n",
              "    element.style[key] = styleAttributes[key];\n",
              "  }\n",
              "  return element;\n",
              "}\n",
              "\n",
              "// Max number of bytes which will be uploaded at a time.\n",
              "const MAX_PAYLOAD_SIZE = 100 * 1024;\n",
              "\n",
              "function _uploadFiles(inputId, outputId) {\n",
              "  const steps = uploadFilesStep(inputId, outputId);\n",
              "  const outputElement = document.getElementById(outputId);\n",
              "  // Cache steps on the outputElement to make it available for the next call\n",
              "  // to uploadFilesContinue from Python.\n",
              "  outputElement.steps = steps;\n",
              "\n",
              "  return _uploadFilesContinue(outputId);\n",
              "}\n",
              "\n",
              "// This is roughly an async generator (not supported in the browser yet),\n",
              "// where there are multiple asynchronous steps and the Python side is going\n",
              "// to poll for completion of each step.\n",
              "// This uses a Promise to block the python side on completion of each step,\n",
              "// then passes the result of the previous step as the input to the next step.\n",
              "function _uploadFilesContinue(outputId) {\n",
              "  const outputElement = document.getElementById(outputId);\n",
              "  const steps = outputElement.steps;\n",
              "\n",
              "  const next = steps.next(outputElement.lastPromiseValue);\n",
              "  return Promise.resolve(next.value.promise).then((value) => {\n",
              "    // Cache the last promise value to make it available to the next\n",
              "    // step of the generator.\n",
              "    outputElement.lastPromiseValue = value;\n",
              "    return next.value.response;\n",
              "  });\n",
              "}\n",
              "\n",
              "/**\n",
              " * Generator function which is called between each async step of the upload\n",
              " * process.\n",
              " * @param {string} inputId Element ID of the input file picker element.\n",
              " * @param {string} outputId Element ID of the output display.\n",
              " * @return {!Iterable<!Object>} Iterable of next steps.\n",
              " */\n",
              "function* uploadFilesStep(inputId, outputId) {\n",
              "  const inputElement = document.getElementById(inputId);\n",
              "  inputElement.disabled = false;\n",
              "\n",
              "  const outputElement = document.getElementById(outputId);\n",
              "  outputElement.innerHTML = '';\n",
              "\n",
              "  const pickedPromise = new Promise((resolve) => {\n",
              "    inputElement.addEventListener('change', (e) => {\n",
              "      resolve(e.target.files);\n",
              "    });\n",
              "  });\n",
              "\n",
              "  const cancel = document.createElement('button');\n",
              "  inputElement.parentElement.appendChild(cancel);\n",
              "  cancel.textContent = 'Cancel upload';\n",
              "  const cancelPromise = new Promise((resolve) => {\n",
              "    cancel.onclick = () => {\n",
              "      resolve(null);\n",
              "    };\n",
              "  });\n",
              "\n",
              "  // Wait for the user to pick the files.\n",
              "  const files = yield {\n",
              "    promise: Promise.race([pickedPromise, cancelPromise]),\n",
              "    response: {\n",
              "      action: 'starting',\n",
              "    }\n",
              "  };\n",
              "\n",
              "  cancel.remove();\n",
              "\n",
              "  // Disable the input element since further picks are not allowed.\n",
              "  inputElement.disabled = true;\n",
              "\n",
              "  if (!files) {\n",
              "    return {\n",
              "      response: {\n",
              "        action: 'complete',\n",
              "      }\n",
              "    };\n",
              "  }\n",
              "\n",
              "  for (const file of files) {\n",
              "    const li = document.createElement('li');\n",
              "    li.append(span(file.name, {fontWeight: 'bold'}));\n",
              "    li.append(span(\n",
              "        `(${file.type || 'n/a'}) - ${file.size} bytes, ` +\n",
              "        `last modified: ${\n",
              "            file.lastModifiedDate ? file.lastModifiedDate.toLocaleDateString() :\n",
              "                                    'n/a'} - `));\n",
              "    const percent = span('0% done');\n",
              "    li.appendChild(percent);\n",
              "\n",
              "    outputElement.appendChild(li);\n",
              "\n",
              "    const fileDataPromise = new Promise((resolve) => {\n",
              "      const reader = new FileReader();\n",
              "      reader.onload = (e) => {\n",
              "        resolve(e.target.result);\n",
              "      };\n",
              "      reader.readAsArrayBuffer(file);\n",
              "    });\n",
              "    // Wait for the data to be ready.\n",
              "    let fileData = yield {\n",
              "      promise: fileDataPromise,\n",
              "      response: {\n",
              "        action: 'continue',\n",
              "      }\n",
              "    };\n",
              "\n",
              "    // Use a chunked sending to avoid message size limits. See b/62115660.\n",
              "    let position = 0;\n",
              "    do {\n",
              "      const length = Math.min(fileData.byteLength - position, MAX_PAYLOAD_SIZE);\n",
              "      const chunk = new Uint8Array(fileData, position, length);\n",
              "      position += length;\n",
              "\n",
              "      const base64 = btoa(String.fromCharCode.apply(null, chunk));\n",
              "      yield {\n",
              "        response: {\n",
              "          action: 'append',\n",
              "          file: file.name,\n",
              "          data: base64,\n",
              "        },\n",
              "      };\n",
              "\n",
              "      let percentDone = fileData.byteLength === 0 ?\n",
              "          100 :\n",
              "          Math.round((position / fileData.byteLength) * 100);\n",
              "      percent.textContent = `${percentDone}% done`;\n",
              "\n",
              "    } while (position < fileData.byteLength);\n",
              "  }\n",
              "\n",
              "  // All done.\n",
              "  yield {\n",
              "    response: {\n",
              "      action: 'complete',\n",
              "    }\n",
              "  };\n",
              "}\n",
              "\n",
              "scope.google = scope.google || {};\n",
              "scope.google.colab = scope.google.colab || {};\n",
              "scope.google.colab._files = {\n",
              "  _uploadFiles,\n",
              "  _uploadFilesContinue,\n",
              "};\n",
              "})(self);\n",
              "</script> "
            ]
          },
          "metadata": {}
        },
        {
          "output_type": "stream",
          "name": "stdout",
          "text": [
            "Saving train_data.zip to train_data.zip\n"
          ]
        }
      ]
    },
    {
      "cell_type": "code",
      "source": [
        "import zipfile\n",
        "import os\n",
        "\n",
        "with zipfile.ZipFile('train_data.zip', 'r') as zip_ref:\n",
        "    zip_ref.extractall('train_data')\n"
      ],
      "metadata": {
        "id": "_0Ll_TN5gEMo"
      },
      "execution_count": null,
      "outputs": []
    },
    {
      "cell_type": "code",
      "source": [
        "import numpy as np\n",
        "import os\n",
        "\n",
        "files_train = 0\n",
        "files_validation = 0\n",
        "\n",
        "# Adjust folder paths for Colab environment\n",
        "folder_train = '/content/train_data/train_data/train'\n",
        "folder_test = '/content/train_data/train_data/test'\n",
        "\n",
        "# Count files in train folder\n",
        "for sub_folder in os.listdir(folder_train):\n",
        "    path, dirs, files = next(os.walk(os.path.join(folder_train, sub_folder)))\n",
        "    files_train += len(files)\n",
        "\n",
        "# Count files in test folder\n",
        "for sub_folder in os.listdir(folder_test):\n",
        "    path, dirs, files = next(os.walk(os.path.join(folder_test, sub_folder)))\n",
        "    files_validation += len(files)\n",
        "\n",
        "print(\"Train files:\", files_train)\n",
        "print(\"Validation files:\", files_validation)\n"
      ],
      "metadata": {
        "colab": {
          "base_uri": "https://localhost:8080/"
        },
        "id": "6yBlEdtLfnPL",
        "outputId": "475c3d8d-f169-4061-abc7-fa817108c039"
      },
      "execution_count": null,
      "outputs": [
        {
          "output_type": "stream",
          "name": "stdout",
          "text": [
            "Train files: 432\n",
            "Validation files: 164\n"
          ]
        }
      ]
    },
    {
      "cell_type": "code",
      "source": [
        "img_width, img_height = 48,48\n",
        "train_data_dir = '/content/train_data/train_data/train'\n",
        "validation_data_dir = '/content/train_data/train_data/test'\n",
        "nb_train_sample = files_train\n",
        "nb_validation_sample = files_validation\n",
        "batch_size = 32\n",
        "epochs = 15\n",
        "num_classes = 2"
      ],
      "metadata": {
        "id": "uqAyZQgKgnXN"
      },
      "execution_count": null,
      "outputs": []
    },
    {
      "cell_type": "code",
      "source": [
        "model = applications.VGG16(weights = 'imagenet', include_top = False, input_shape = (img_width, img_height, 3))"
      ],
      "metadata": {
        "id": "U6OGsFzfhJCd",
        "colab": {
          "base_uri": "https://localhost:8080/"
        },
        "outputId": "c32b6d47-d80c-46bc-f663-09d068aa0d56"
      },
      "execution_count": null,
      "outputs": [
        {
          "output_type": "stream",
          "name": "stdout",
          "text": [
            "Downloading data from https://storage.googleapis.com/tensorflow/keras-applications/vgg16/vgg16_weights_tf_dim_ordering_tf_kernels_notop.h5\n",
            "58889256/58889256 [==============================] - 4s 0us/step\n"
          ]
        }
      ]
    },
    {
      "cell_type": "code",
      "source": [
        "model.layers"
      ],
      "metadata": {
        "colab": {
          "base_uri": "https://localhost:8080/"
        },
        "id": "YR80LNFHhQgH",
        "outputId": "074c1546-4fa3-472e-d714-305085a60b21"
      },
      "execution_count": null,
      "outputs": [
        {
          "output_type": "execute_result",
          "data": {
            "text/plain": [
              "[<keras.engine.input_layer.InputLayer at 0x7c2b57fb5a50>,\n",
              " <keras.layers.convolutional.conv2d.Conv2D at 0x7c2b57fb51e0>,\n",
              " <keras.layers.convolutional.conv2d.Conv2D at 0x7c2b57fb58a0>,\n",
              " <keras.layers.pooling.max_pooling2d.MaxPooling2D at 0x7c2b5811f790>,\n",
              " <keras.layers.convolutional.conv2d.Conv2D at 0x7c2b57fb60b0>,\n",
              " <keras.layers.convolutional.conv2d.Conv2D at 0x7c2bd76e9e40>,\n",
              " <keras.layers.pooling.max_pooling2d.MaxPooling2D at 0x7c2b58004490>,\n",
              " <keras.layers.convolutional.conv2d.Conv2D at 0x7c2bd69ce590>,\n",
              " <keras.layers.convolutional.conv2d.Conv2D at 0x7c2b5804fca0>,\n",
              " <keras.layers.convolutional.conv2d.Conv2D at 0x7c2b5804f1c0>,\n",
              " <keras.layers.pooling.max_pooling2d.MaxPooling2D at 0x7c2b5804d450>,\n",
              " <keras.layers.convolutional.conv2d.Conv2D at 0x7c2b5804f850>,\n",
              " <keras.layers.convolutional.conv2d.Conv2D at 0x7c2b5804ec50>,\n",
              " <keras.layers.convolutional.conv2d.Conv2D at 0x7c2b5804d690>,\n",
              " <keras.layers.pooling.max_pooling2d.MaxPooling2D at 0x7c2b581712a0>,\n",
              " <keras.layers.convolutional.conv2d.Conv2D at 0x7c2b581703d0>,\n",
              " <keras.layers.convolutional.conv2d.Conv2D at 0x7c2b58172470>,\n",
              " <keras.layers.convolutional.conv2d.Conv2D at 0x7c2b58173e50>,\n",
              " <keras.layers.pooling.max_pooling2d.MaxPooling2D at 0x7c2b58172920>]"
            ]
          },
          "metadata": {},
          "execution_count": 13
        }
      ]
    },
    {
      "cell_type": "code",
      "source": [
        "for layer in model.layers[:10]:\n",
        "    layer.traiable = False"
      ],
      "metadata": {
        "id": "qLHSaZkchTjr"
      },
      "execution_count": null,
      "outputs": []
    },
    {
      "cell_type": "code",
      "source": [
        "x = model.output\n",
        "x = Flatten()(x)\n",
        "\n",
        "predictions = Dense(num_classes, activation = 'softmax')(x)\n",
        "model_final = Model(inputs = model.input, outputs = predictions)\n"
      ],
      "metadata": {
        "id": "F3FBZCmnhcVE"
      },
      "execution_count": null,
      "outputs": []
    },
    {
      "cell_type": "code",
      "source": [
        "train_datagen = ImageDataGenerator(rescale=1.0/255, horizontal_flip=True,\n",
        "                   fill_mode='nearest',zoom_range=0.1, width_shift_range=0.1,\n",
        "                  height_shift_range=0.1, rotation_range=5)\n",
        "\n",
        "test_datagen = ImageDataGenerator(rescale=1.0/255, horizontal_flip=True,\n",
        "                   fill_mode='nearest',zoom_range=0.1, width_shift_range=0.1,\n",
        "                  height_shift_range=0.1, rotation_range=5)\n",
        "\n",
        "train_generator = train_datagen.flow_from_directory(train_data_dir, target_size=(img_height, img_width),\n",
        "                                 batch_size = batch_size, class_mode = 'categorical')\n",
        "\n",
        "validation_generator = test_datagen.flow_from_directory(validation_data_dir, target_size=(img_height, img_width),\n",
        "                                 batch_size = batch_size, class_mode = 'categorical')"
      ],
      "metadata": {
        "colab": {
          "base_uri": "https://localhost:8080/"
        },
        "id": "saEu3wNlhmp-",
        "outputId": "2b053074-8abf-46e0-88a0-326cd8f2a2d7"
      },
      "execution_count": null,
      "outputs": [
        {
          "output_type": "stream",
          "name": "stdout",
          "text": [
            "Found 432 images belonging to 2 classes.\n",
            "Found 164 images belonging to 2 classes.\n"
          ]
        }
      ]
    },
    {
      "cell_type": "code",
      "source": [
        "model_final.compile(loss = 'categorical_crossentropy',\n",
        "                    optimizer = optimizers.SGD(learning_rate = 0.0001, momentum=0.9),\n",
        "                    metrics=['accuracy'])"
      ],
      "metadata": {
        "id": "sHoV4MXfjiKT"
      },
      "execution_count": null,
      "outputs": []
    },
    {
      "cell_type": "code",
      "source": [
        "history = model_final.fit(\n",
        "train_generator, steps_per_epoch=nb_train_sample//batch_size,\n",
        "    validation_steps=nb_validation_sample//batch_size,\n",
        "epochs = epochs, validation_data=validation_generator)"
      ],
      "metadata": {
        "colab": {
          "base_uri": "https://localhost:8080/"
        },
        "id": "_QKH2aKPhp2P",
        "outputId": "6277e8da-3970-4154-f90b-e00825903ff5"
      },
      "execution_count": null,
      "outputs": [
        {
          "output_type": "stream",
          "name": "stdout",
          "text": [
            "Epoch 1/15\n",
            "13/13 [==============================] - 40s 3s/step - loss: 0.6003 - accuracy: 0.6130 - val_loss: 0.4242 - val_accuracy: 0.7750\n",
            "Epoch 2/15\n",
            "13/13 [==============================] - 40s 3s/step - loss: 0.3147 - accuracy: 0.8350 - val_loss: 0.2981 - val_accuracy: 0.8813\n",
            "Epoch 3/15\n",
            "13/13 [==============================] - 36s 3s/step - loss: 0.2155 - accuracy: 0.9525 - val_loss: 0.2451 - val_accuracy: 0.8875\n",
            "Epoch 4/15\n",
            "13/13 [==============================] - 40s 3s/step - loss: 0.1544 - accuracy: 0.9591 - val_loss: 0.2076 - val_accuracy: 0.9062\n",
            "Epoch 5/15\n",
            "13/13 [==============================] - 38s 3s/step - loss: 0.1220 - accuracy: 0.9700 - val_loss: 0.2302 - val_accuracy: 0.9000\n",
            "Epoch 6/15\n",
            "13/13 [==============================] - 38s 3s/step - loss: 0.0948 - accuracy: 0.9775 - val_loss: 0.1742 - val_accuracy: 0.9250\n",
            "Epoch 7/15\n",
            "13/13 [==============================] - 40s 3s/step - loss: 0.0915 - accuracy: 0.9775 - val_loss: 0.1894 - val_accuracy: 0.9125\n",
            "Epoch 8/15\n",
            "13/13 [==============================] - 39s 3s/step - loss: 0.0703 - accuracy: 0.9825 - val_loss: 0.1389 - val_accuracy: 0.9312\n",
            "Epoch 9/15\n",
            "13/13 [==============================] - 37s 3s/step - loss: 0.0790 - accuracy: 0.9750 - val_loss: 0.1615 - val_accuracy: 0.9250\n",
            "Epoch 10/15\n",
            "13/13 [==============================] - 40s 3s/step - loss: 0.0692 - accuracy: 0.9850 - val_loss: 0.1501 - val_accuracy: 0.9438\n",
            "Epoch 11/15\n",
            "13/13 [==============================] - 37s 3s/step - loss: 0.0581 - accuracy: 0.9825 - val_loss: 0.1364 - val_accuracy: 0.9312\n",
            "Epoch 12/15\n",
            "13/13 [==============================] - 39s 3s/step - loss: 0.0416 - accuracy: 0.9900 - val_loss: 0.1520 - val_accuracy: 0.9187\n",
            "Epoch 13/15\n",
            "13/13 [==============================] - 39s 3s/step - loss: 0.0541 - accuracy: 0.9800 - val_loss: 0.1611 - val_accuracy: 0.9250\n",
            "Epoch 14/15\n",
            "13/13 [==============================] - 38s 3s/step - loss: 0.0593 - accuracy: 0.9825 - val_loss: 0.1502 - val_accuracy: 0.9312\n",
            "Epoch 15/15\n",
            "13/13 [==============================] - 41s 3s/step - loss: 0.0397 - accuracy: 0.9875 - val_loss: 0.1437 - val_accuracy: 0.9250\n"
          ]
        }
      ]
    },
    {
      "cell_type": "code",
      "source": [
        "history.history\n"
      ],
      "metadata": {
        "colab": {
          "base_uri": "https://localhost:8080/"
        },
        "id": "aomz6_nqoror",
        "outputId": "7f00d2ca-88bf-4ab3-a10d-c0268cde95e5"
      },
      "execution_count": null,
      "outputs": [
        {
          "output_type": "execute_result",
          "data": {
            "text/plain": [
              "{'loss': [0.600335955619812,\n",
              "  0.3147400915622711,\n",
              "  0.21546173095703125,\n",
              "  0.15437199175357819,\n",
              "  0.12203414738178253,\n",
              "  0.09478135406970978,\n",
              "  0.09153031557798386,\n",
              "  0.07032325118780136,\n",
              "  0.07895804941654205,\n",
              "  0.06918670982122421,\n",
              "  0.05809282138943672,\n",
              "  0.04161974415183067,\n",
              "  0.054068952798843384,\n",
              "  0.059271201491355896,\n",
              "  0.03974286466836929],\n",
              " 'accuracy': [0.6129807829856873,\n",
              "  0.8349999785423279,\n",
              "  0.9524999856948853,\n",
              "  0.9591346383094788,\n",
              "  0.9700000286102295,\n",
              "  0.9775000214576721,\n",
              "  0.9775000214576721,\n",
              "  0.9825000166893005,\n",
              "  0.9750000238418579,\n",
              "  0.9850000143051147,\n",
              "  0.9825000166893005,\n",
              "  0.9900000095367432,\n",
              "  0.9800000190734863,\n",
              "  0.9825000166893005,\n",
              "  0.987500011920929],\n",
              " 'val_loss': [0.42416754364967346,\n",
              "  0.29813385009765625,\n",
              "  0.2451210767030716,\n",
              "  0.2075774222612381,\n",
              "  0.2301771193742752,\n",
              "  0.17423631250858307,\n",
              "  0.18936283886432648,\n",
              "  0.13894876837730408,\n",
              "  0.16152547299861908,\n",
              "  0.15009412169456482,\n",
              "  0.13635596632957458,\n",
              "  0.1520284116268158,\n",
              "  0.1611255407333374,\n",
              "  0.15022708475589752,\n",
              "  0.14374136924743652],\n",
              " 'val_accuracy': [0.7749999761581421,\n",
              "  0.8812500238418579,\n",
              "  0.887499988079071,\n",
              "  0.90625,\n",
              "  0.8999999761581421,\n",
              "  0.925000011920929,\n",
              "  0.9125000238418579,\n",
              "  0.9312499761581421,\n",
              "  0.925000011920929,\n",
              "  0.9437500238418579,\n",
              "  0.9312499761581421,\n",
              "  0.918749988079071,\n",
              "  0.925000011920929,\n",
              "  0.9312499761581421,\n",
              "  0.925000011920929]}"
            ]
          },
          "metadata": {},
          "execution_count": 19
        }
      ]
    },
    {
      "cell_type": "code",
      "source": [
        "import matplotlib.pyplot as plt\n",
        "plt.plot(history.history['accuracy'])\n",
        "plt.plot(history.history['val_accuracy'])\n",
        "plt.title('model_accuracy')\n",
        "plt.ylabel('accuracy')\n",
        "plt.xlabel('epochs')\n",
        "plt.legend(['train', 'test'], loc = 'upper left')\n",
        "plt.show()"
      ],
      "metadata": {
        "colab": {
          "base_uri": "https://localhost:8080/",
          "height": 472
        },
        "id": "d7CZ3cFGoubz",
        "outputId": "c4eba6c5-7224-43a7-876c-ce8d8f5b46ad"
      },
      "execution_count": null,
      "outputs": [
        {
          "output_type": "display_data",
          "data": {
            "text/plain": [
              "<Figure size 640x480 with 1 Axes>"
            ],
            "image/png": "[encoded data removed]"
          },
          "metadata": {}
        }
      ]
    },
    {
      "cell_type": "code",
      "source": [
        "import matplotlib.pyplot as plt\n",
        "plt.plot(history.history['loss'])\n",
        "plt.plot(history.history['val_loss'])\n",
        "plt.title('model_loss')\n",
        "plt.ylabel('loss')\n",
        "plt.xlabel('epochs')\n",
        "plt.legend(['train', 'test'], loc = 'upper left')\n",
        "plt.show()"
      ],
      "metadata": {
        "colab": {
          "base_uri": "https://localhost:8080/",
          "height": 472
        },
        "id": "W1dg4zFkowQS",
        "outputId": "44e4b786-267e-4033-8bbf-ec5b068fe4f7"
      },
      "execution_count": null,
      "outputs": [
        {
          "output_type": "display_data",
          "data": {
            "text/plain": [
              "<Figure size 640x480 with 1 Axes>"
            ],
            "image/png": "[encoded data removed]"
          },
          "metadata": {}
        }
      ]
    },
    {
      "cell_type": "code",
      "source": [
        "model_final.save('/content/drive/My Drive/Car Parking detection/Carmodel_final',save_format = 'tf')\n"
      ],
      "metadata": {
        "id": "9D_OJAr2qVpY",
        "colab": {
          "base_uri": "https://localhost:8080/"
        },
        "outputId": "e500222f-6cdb-4581-bf07-d047b6801747"
      },
      "execution_count": null,
      "outputs": [
        {
          "output_type": "stream",
          "name": "stderr",
          "text": [
            "WARNING:absl:Found untraced functions such as _jit_compiled_convolution_op, _jit_compiled_convolution_op, _jit_compiled_convolution_op, _jit_compiled_convolution_op, _jit_compiled_convolution_op while saving (showing 5 of 13). These functions will not be directly callable after loading.\n"
          ]
        }
      ]
    },
    {
      "cell_type": "code",
      "source": [
        "from tensorflow.keras.models import load_model"
      ],
      "metadata": {
        "id": "SfWbt4Q6BWwY"
      },
      "execution_count": null,
      "outputs": []
    },
    {
      "cell_type": "code",
      "source": [
        "model = load_model('/content/drive/My Drive/Car Parking detection/Carmodel_final.h5')"
      ],
      "metadata": {
        "id": "nDmKx7h8BhNp"
      },
      "execution_count": null,
      "outputs": []
    },
    {
      "cell_type": "code",
      "source": [
        "class_dictionary = {}\n",
        "class_dictionary[0] = 'no_car'\n",
        "class_dictionary[1] = 'car'"
      ],
      "metadata": {
        "id": "fkKcVIkJCGWF"
      },
      "execution_count": null,
      "outputs": []
    },
    {
      "cell_type": "code",
      "source": [
        "class_dictionary"
      ],
      "metadata": {
        "colab": {
          "base_uri": "https://localhost:8080/"
        },
        "id": "Oj7kLPJLCW4g",
        "outputId": "e02c97fc-d58e-4d9e-f15d-819a76fc36ae"
      },
      "execution_count": null,
      "outputs": [
        {
          "output_type": "execute_result",
          "data": {
            "text/plain": [
              "{0: 'no_car', 1: 'car'}"
            ]
          },
          "metadata": {},
          "execution_count": 23
        }
      ]
    },
    {
      "cell_type": "code",
      "source": [
        "import cv2\n",
        "def make_prediction(image):\n",
        "    image = cv2.imread(image)\n",
        "    image = cv2.resize(image, (48, 48))\n",
        "    img = image/255\n",
        "#     (1, 48, 48, 3) -> 4D Tensor\n",
        "    img = np.expand_dims(img, axis = 0)\n",
        "\n",
        "    class_predicted = model.predict(img)\n",
        "    intId = np.argmax(class_predicted[0])\n",
        "    label = class_dictionary[intId]\n",
        "    return label"
      ],
      "metadata": {
        "id": "S3xtYEz1CY5u"
      },
      "execution_count": null,
      "outputs": []
    },
    {
      "cell_type": "code",
      "source": [
        "make_prediction(\"/content/drive/My Drive/Car Parking detection/spot1.jpg\")"
      ],
      "metadata": {
        "colab": {
          "base_uri": "https://localhost:8080/",
          "height": 53
        },
        "id": "lRfVr969FmmA",
        "outputId": "8e0c07af-e296-401c-92d5-ed8e59864b19"
      },
      "execution_count": null,
      "outputs": [
        {
          "output_type": "stream",
          "name": "stdout",
          "text": [
            "1/1 [==============================] - 0s 163ms/step\n"
          ]
        },
        {
          "output_type": "execute_result",
          "data": {
            "text/plain": [
              "'car'"
            ],
            "application/vnd.google.colaboratory.intrinsic+json": {
              "type": "string"
            }
          },
          "metadata": {},
          "execution_count": 25
        }
      ]
    },
    {
      "cell_type": "code",
      "source": [
        "make_prediction(\"/content/drive/My Drive/Car Parking detection/spot4.jpg\")"
      ],
      "metadata": {
        "colab": {
          "base_uri": "https://localhost:8080/",
          "height": 53
        },
        "id": "YJYRYzcbHO8d",
        "outputId": "064049bd-aa5f-44ed-d218-6de02620a324"
      },
      "execution_count": null,
      "outputs": [
        {
          "output_type": "stream",
          "name": "stdout",
          "text": [
            "1/1 [==============================] - 0s 40ms/step\n"
          ]
        },
        {
          "output_type": "execute_result",
          "data": {
            "text/plain": [
              "'car'"
            ],
            "application/vnd.google.colaboratory.intrinsic+json": {
              "type": "string"
            }
          },
          "metadata": {},
          "execution_count": 26
        }
      ]
    },
    {
      "cell_type": "code",
      "source": [
        "make_prediction(\"/content/drive/My Drive/Car Parking detection/car_spot2.jpg\")"
      ],
      "metadata": {
        "colab": {
          "base_uri": "https://localhost:8080/",
          "height": 53
        },
        "id": "rCNPozkSHRkc",
        "outputId": "1091c34c-7721-4e4a-d2b6-10dacda565bc"
      },
      "execution_count": null,
      "outputs": [
        {
          "output_type": "stream",
          "name": "stdout",
          "text": [
            "1/1 [==============================] - 0s 39ms/step\n"
          ]
        },
        {
          "output_type": "execute_result",
          "data": {
            "text/plain": [
              "'car'"
            ],
            "application/vnd.google.colaboratory.intrinsic+json": {
              "type": "string"
            }
          },
          "metadata": {},
          "execution_count": 27
        }
      ]
    },
    {
      "cell_type": "code",
      "source": [
        "make_prediction(\"/content/drive/My Drive/Car Parking detection/nocar_spot13.jpg\")"
      ],
      "metadata": {
        "colab": {
          "base_uri": "https://localhost:8080/",
          "height": 53
        },
        "id": "ExhIKXAzHV2s",
        "outputId": "aa283544-08ec-41a2-f86c-9ea50bea8041"
      },
      "execution_count": null,
      "outputs": [
        {
          "output_type": "stream",
          "name": "stdout",
          "text": [
            "1/1 [==============================] - 0s 35ms/step\n"
          ]
        },
        {
          "output_type": "execute_result",
          "data": {
            "text/plain": [
              "'no_car'"
            ],
            "application/vnd.google.colaboratory.intrinsic+json": {
              "type": "string"
            }
          },
          "metadata": {},
          "execution_count": 28
        }
      ]
    }
  ]
}